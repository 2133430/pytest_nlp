{
 "cells": [
  {
   "cell_type": "code",
   "execution_count": 5,
   "metadata": {},
   "outputs": [
    {
     "name": "stdout",
     "output_type": "stream",
     "text": [
      "Starting gradient descent at b = 0, m = 0, error = 5565.107834483211\n",
      "Running...\n",
      "After 1000 iterations b = 0.08893651993741346, m = 1.4777440851894448, error = 112.61481011613473\n"
     ]
    },
    {
     "data": {
      "image/png": "[encoded data removed]",
      "text/plain": [
       "<matplotlib.figure.Figure at 0x216124ce588>"
      ]
     },
     "metadata": {
      "needs_background": "light"
     },
     "output_type": "display_data"
    }
   ],
   "source": [
    "#using the code from llSourcell/Intro_to_the_Math_of_intelligence\n",
    "#-----------------------------------------------------------------\n",
    "#The optimal values of m and b can be actually calculated with way less effort than doing a linear regression. \n",
    "#this is just to demonstrate gradient descent\n",
    "\n",
    "import numpy  as np;\n",
    "from numpy import *;\n",
    "import matplotlib.pylab as pyl;\n",
    "\n",
    "# y = mx + b\n",
    "# m is slope, b is y-intercept\n",
    "def compute_error_for_line_given_points(b, m, points):\n",
    "    totalError = 0\n",
    "    for i in range(0, len(points)):\n",
    "        x = points[i, 0]\n",
    "        y = points[i, 1]\n",
    "        totalError += (y - (m * x + b)) ** 2\n",
    "    return totalError / float(len(points))\n",
    "\n",
    "def step_gradient(b_current, m_current, points, learningRate):\n",
    "    b_gradient = 0\n",
    "    m_gradient = 0\n",
    "    N = float(len(points))\n",
    "    for i in range(0, len(points)):\n",
    "        x = points[i, 0]\n",
    "        y = points[i, 1]\n",
    "        b_gradient += -(2/N) * (y - ((m_current * x) + b_current))\n",
    "        m_gradient += -(2/N) * x * (y - ((m_current * x) + b_current))\n",
    "    new_b = b_current - (learningRate * b_gradient)\n",
    "    new_m = m_current - (learningRate * m_gradient)\n",
    "    \n",
    "    return [new_b, new_m]\n",
    "\n",
    "def gradient_descent_runner(points, starting_b, starting_m, learning_rate, num_iterations):\n",
    "    b = starting_b\n",
    "    m = starting_m\n",
    "    x3 = [0 for i in range(num_iterations)];\n",
    "    y3 = [0 for i in range(num_iterations)];\n",
    "    z3 = [0 for i in range(num_iterations)];\n",
    "    for i in range(num_iterations):\n",
    "        b, m = step_gradient(b, m, array(points), learning_rate)\n",
    "        x3[i] = b;\n",
    "        z3[i] = compute_error_for_line_given_points(b, m, points)\n",
    "        y3[i] = m;\n",
    "        \n",
    "    return [b, m,x3,y3,z3]\n",
    "\n",
    "def run():\n",
    "    \n",
    "    points = genfromtxt(\"data.csv\", delimiter=\",\")\n",
    "    \n",
    "    \n",
    "    learning_rate = 0.0001\n",
    "    initial_b = 0 # initial y-intercept guess\n",
    "    initial_m = 0 # initial slope guess\n",
    "    num_iterations = 1000\n",
    "    print (\"Starting gradient descent at b = {0}, m = {1}, error = {2}\".format(initial_b, initial_m, compute_error_for_line_given_points(initial_b, initial_m, points)))\n",
    "    print (\"Running...\")\n",
    "    [b, m,x3,y3,z3] = gradient_descent_runner(points, initial_b, initial_m, learning_rate, num_iterations)\n",
    "    print (\"After {0} iterations b = {1}, m = {2}, error = {3}\".format(num_iterations, b, m, compute_error_for_line_given_points(b, m, points)))\n",
    "    \n",
    "    plotLinear(points,b,m)\n",
    "\n",
    "    \n",
    "def plotLinear(points,b,m):\n",
    "    x = [0 for i in range(len(points))]  \n",
    "    y = [0 for i in range(len(points))]\n",
    "    for i in range(0, len(points)):\n",
    "        x[i]= points[i, 0]\n",
    "        y[i] = points[i, 1]\n",
    "    x1 = np.array(x);    \n",
    "    y1 = np.array(y);\n",
    "    y2 = b+m*x1;\n",
    "\n",
    "    pyl.plot(x1,y1,'o')\n",
    "    pyl.plot(x1,y2,'r');\n",
    "    #pyl.subplot(1,2,2);\n",
    "    #totalError = (y1 - (m * x1 + b)) ** 2\n",
    "    #pyl.plot(totalError);\n",
    "    \n",
    "def plotError(x3,y3):\n",
    "    pyl.xlabel(\"b\")\n",
    "    pyl.ylabel(\"Error\")\n",
    "    pyl.grid()\n",
    "    pyl.subplot(2,2,2);\n",
    "    pyl.plot(x3,y3);\n",
    "    \n",
    "    \n",
    "if __name__ == '__main__':\n",
    "    run()\n",
    "    "
   ]
  },
  {
   "cell_type": "code",
   "execution_count": null,
   "metadata": {},
   "outputs": [],
   "source": [
    "\n",
    "\n"
   ]
  },
  {
   "cell_type": "code",
   "execution_count": null,
   "metadata": {},
   "outputs": [],
   "source": []
  }
 ],
 "metadata": {
  "kernelspec": {
   "display_name": "Python 3",
   "language": "python",
   "name": "python3"
  },
  "language_info": {
   "codemirror_mode": {
    "name": "ipython",
    "version": 3
   },
   "file_extension": ".py",
   "mimetype": "text/x-python",
   "name": "python",
   "nbconvert_exporter": "python",
   "pygments_lexer": "ipython3",
   "version": "3.6.6"
  }
 },
 "nbformat": 4,
 "nbformat_minor": 2
}
