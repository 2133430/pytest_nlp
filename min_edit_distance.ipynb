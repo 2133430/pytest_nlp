{
 "cells": [
  {
   "cell_type": "markdown",
   "metadata": {},
   "source": [
    "#在二维数组中其位置代表了他的操作\n",
    "#当i-1时向上 为(ab,a) = (a,a) + del 代表 在target串中最后一位被删除处理\n",
    "#当j-1时向左 为(a,ab) = (a,a) + ins 代表 在target串中插入了一位\n",
    "#只有在i-1 , j-1 时才会进行字符串的比较"
   ]
  },
  {
   "cell_type": "code",
   "execution_count": 78,
   "metadata": {},
   "outputs": [
    {
     "name": "stdout",
     "output_type": "stream",
     "text": [
      "1.5\n",
      "5.5\n"
     ]
    }
   ],
   "source": [
    "def del_cost(source):\n",
    "    return 1.0;\n",
    "\n",
    "def ins_cost(target):\n",
    "    return 1.0;\n",
    "\n",
    "def sub_cost(source,target,indexS,indexT):\n",
    "    #这里要减一\n",
    "    if source[indexS-1]==target[indexT-1]:\n",
    "        return 0.0;\n",
    "    else:\n",
    "        return 1.5;\n",
    "    \n",
    "    \n",
    "def  min_edit_distance(source,target):\n",
    "    lenSource = len(source)+1;\n",
    "    lenTarget = len(target)+1;\n",
    "    #print(lenSource,lenTarget);\n",
    "    #create matrix chart[lenS+1,lenT+1]\n",
    "    chart = [[0 for i in range(lenTarget)] for j in range(lenSource)];    \n",
    "    chart[0][0]=0;\n",
    "    #print(chart);\n",
    "    #第一列对(source,-)置数 i++ target一直为空因此一直是del操作\n",
    "    for indexS in range(1,lenSource):\n",
    "        chart[indexS][0] = indexS;\n",
    "    \n",
    "    for indexT in range(1,lenTarget):\n",
    "        chart[0][indexT] = indexT;\n",
    "    #print(chart);\n",
    "    for indexS in range(lenSource):\n",
    "        for indexT in range(lenTarget):\n",
    "            chart[indexS][indexT] = min(chart[indexS-1][indexT]+del_cost(source),chart[indexS][indexT-1]+ins_cost(target),chart[indexS-1][indexT-1]+sub_cost(source,target,indexS,indexT));\n",
    "    \n",
    "    return chart[indexS-1][indexT-1];\n",
    "\n",
    "\n",
    "#test\n",
    "source = \"a\";\n",
    "target = \"b\";\n",
    "sum = min_edit_distance(source,target);\n",
    "print(sum);\n",
    "\n",
    "#test\n",
    "source = \"aaabbb\";\n",
    "target = \"aaacccd\";\n",
    "sum = min_edit_distance(source,target);\n",
    "print(sum);"
   ]
  },
  {
   "cell_type": "code",
   "execution_count": null,
   "metadata": {},
   "outputs": [],
   "source": []
  }
 ],
 "metadata": {
  "kernelspec": {
   "display_name": "Python 3",
   "language": "python",
   "name": "python3"
  },
  "language_info": {
   "codemirror_mode": {
    "name": "ipython",
    "version": 3
   },
   "file_extension": ".py",
   "mimetype": "text/x-python",
   "name": "python",
   "nbconvert_exporter": "python",
   "pygments_lexer": "ipython3",
   "version": "3.6.6"
  }
 },
 "nbformat": 4,
 "nbformat_minor": 2
}
