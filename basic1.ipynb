{
 "cells": [
  {
   "cell_type": "code",
   "execution_count": 1,
   "metadata": {},
   "outputs": [],
   "source": [
    "#list\n",
    "stu = [\"xiaohua\",\"xiaoming\",\"xiaohong\",\"xiaogang\"];"
   ]
  },
  {
   "cell_type": "code",
   "execution_count": 5,
   "metadata": {},
   "outputs": [
    {
     "name": "stdout",
     "output_type": "stream",
     "text": [
      "modified\n"
     ]
    }
   ],
   "source": [
    "stu[2]=\"modified\";\n",
    "print(stu[2]);"
   ]
  },
  {
   "cell_type": "code",
   "execution_count": 7,
   "metadata": {},
   "outputs": [
    {
     "name": "stdout",
     "output_type": "stream",
     "text": [
      "xiaoming\n"
     ]
    }
   ],
   "source": [
    "#tuple\n",
    "stu_tup = (\"xiaohua\",\"xiaoming\",\"xiaohong\",\"xiaogang\");\n",
    "#stu_tup[1]=\"modified\";\n",
    "print(stu_tup[1]);"
   ]
  },
  {
   "cell_type": "code",
   "execution_count": 10,
   "metadata": {},
   "outputs": [
    {
     "name": "stdout",
     "output_type": "stream",
     "text": [
      "{'a'} {'a', 'c', 'b'} {'c', 'b'}\n"
     ]
    }
   ],
   "source": [
    "#set\n",
    "a = set(\"aaabbbccc\");\n",
    "b = set(\"aa\");\n",
    "x = a&b;\n",
    "y = a|b;\n",
    "z = a-b;\n",
    "print(x,y,z);"
   ]
  },
  {
   "cell_type": "code",
   "execution_count": 11,
   "metadata": {},
   "outputs": [
    {
     "name": "stdout",
     "output_type": "stream",
     "text": [
      "8\n"
     ]
    }
   ],
   "source": [
    "#func\n",
    "def func1():\n",
    "    a = 8;\n",
    "    print(a);\n",
    "func1();"
   ]
  },
  {
   "cell_type": "code",
   "execution_count": 14,
   "metadata": {},
   "outputs": [
    {
     "name": "stdout",
     "output_type": "stream",
     "text": [
      "2\n",
      "b is 3\n",
      "2\n"
     ]
    }
   ],
   "source": [
    "def func2():\n",
    "    b =2;\n",
    "    return b;\n",
    "c = func2();\n",
    "print(c);\n",
    "#b=3 can only calc in func3\n",
    "def func3():\n",
    "    b = 3;\n",
    "    print(\"b is\",b);\n",
    "func3();\n",
    "print(c);"
   ]
  },
  {
   "cell_type": "code",
   "execution_count": 23,
   "metadata": {},
   "outputs": [
    {
     "name": "stdout",
     "output_type": "stream",
     "text": [
      "the var is 1\n",
      "1\n"
     ]
    }
   ],
   "source": [
    "def func4():\n",
    "    global var ;\n",
    "    var = 1;\n",
    "    print(\"the var is\",var);\n",
    "\n",
    "func4();\n",
    "print(var);"
   ]
  },
  {
   "cell_type": "code",
   "execution_count": 40,
   "metadata": {},
   "outputs": [
    {
     "name": "stdout",
     "output_type": "stream",
     "text": [
      "a is max 4\n",
      "True\n"
     ]
    }
   ],
   "source": [
    "#形参\n",
    "def func5(a,b,c):\n",
    "    if a>b and a>c:\n",
    "        print(\"a is max\",a);\n",
    "    elif(c>b and c>a):\n",
    "        print(\"c is max\",c);\n",
    "    else:\n",
    "        print(\"b is max\",b);\n",
    "func5(4,2,3);\n",
    "a =3;b=2;c=1;\n",
    "print(c<a);"
   ]
  },
  {
   "cell_type": "code",
   "execution_count": 50,
   "metadata": {},
   "outputs": [
    {
     "name": "stdout",
     "output_type": "stream",
     "text": [
      "xiaohua\n",
      "xiaoming\n",
      "modified\n",
      "xiaogang\n",
      "1\n",
      "2\n",
      "3\n",
      "4\n",
      "5\n",
      "6\n",
      "range(0, 4)\n",
      "range(1, 10, 6)\n"
     ]
    }
   ],
   "source": [
    "#for loop\n",
    "for tmp in stu:\n",
    "    print(tmp);\n",
    "for tmp in range(1,7,1):#step = 1\n",
    "    print(tmp);\n",
    "print(range(4));\n",
    "print(range(1,10,6));"
   ]
  },
  {
   "cell_type": "code",
   "execution_count": 1,
   "metadata": {},
   "outputs": [
    {
     "name": "stdout",
     "output_type": "stream",
     "text": [
      "yes\n"
     ]
    }
   ],
   "source": [
    "#while\n",
    "a = 2;b=3;\n",
    "while a==2:\n",
    "    print(\"yes\");\n",
    "    break;\n",
    "else:\n",
    "    print(\"no\");"
   ]
  },
  {
   "cell_type": "code",
   "execution_count": 75,
   "metadata": {},
   "outputs": [
    {
     "name": "stdout",
     "output_type": "stream",
     "text": [
      "this is static method\n",
      "this is class method <class 'type'> <class '__main__.female'>\n",
      "this is normal method <class '__main__.female'> <__main__.female object at 0x0000023958095C18>\n",
      "hello\n",
      "this is a new method\n",
      "this is normal method <class '__main__.men'> <__main__.men object at 0x0000023958095B38>\n",
      "hello\n",
      "this is a new method\n",
      "yese\n",
      "{'__module__': '__main__', 'func_static': <staticmethod object at 0x0000023958095B70>, 'func_classmethod': <classmethod object at 0x0000023958095C50>, 'func_normal': <function female.func_normal at 0x0000023958019158>, '__dict__': <attribute '__dict__' of 'female' objects>, '__weakref__': <attribute '__weakref__' of 'female' objects>, '__doc__': None}\n",
      "{'test': 'yese'}\n",
      "suibian\n"
     ]
    }
   ],
   "source": [
    "class female(object):\n",
    "    \n",
    "    @staticmethod\n",
    "    def func_static():\n",
    "        print(\"this is static method\");\n",
    "    @classmethod\n",
    "    def func_classmethod(cls):\n",
    "        print(\"this is class method\",type(cls),cls);\n",
    "    def func_normal(self):\n",
    "        print(\"this is normal method\",type(self),self);\n",
    "\n",
    "var_class = female();\n",
    "\n",
    "var_class.func_static();\n",
    "var_class.func_classmethod();\n",
    "var_class.func_normal();\n",
    "class men(female):\n",
    "    @staticmethod\n",
    "    def func_static():\n",
    "        print(\"hello\");\n",
    "    @classmethod\n",
    "    def func_classmethod(cls):\n",
    "        print(\"this is a new method\");\n",
    "\n",
    "var_men = men();\n",
    "var_men.func_static();\n",
    "var_men.func_classmethod();\n",
    "var_men.func_normal();\n",
    "\n",
    "men.func_static();\n",
    "men.func_classmethod();\n",
    "#需要实例化#men.func_normal();\n",
    "#只能是该实例可以随意新增属性\n",
    "var_class.test = \"yese\";\n",
    "print(var_class.test);\n",
    "#只能看属性\n",
    "print(var_class.__class__.__dict__);\n",
    "print(var_class.__dict__);\n",
    "#给实例的类添加属性\n",
    "var_class.__class__.suibian = \"suibian\";\n",
    "#继承类也能继承\n",
    "print(var_men.suibian);"
   ]
  },
  {
   "cell_type": "code",
   "execution_count": 78,
   "metadata": {},
   "outputs": [],
   "source": [
    "#登录邮箱\n",
    "import poplib;\n",
    "import smtplib;\n",
    "from email.header import decode_header;\n",
    "from email.mime.text import MIMEText;\n",
    "import email\n",
    "\n",
    "sent = smtplib.SMTP('smtp.163.com') ;#登录服务器为smtp.163.com\n",
    "sent.login('youremail@163.com','yourpassword');\n",
    "#发送邮件\n",
    "to=['xxxx@outlook.com','xxxx@163.com'];\n",
    "content = MIMEText('群发邮件');\n",
    "content['Subject']='群发邮件';\n",
    "content['From']='xxxx@163.com';\n",
    "content['To']=','.join(to);\n",
    "sent.sendmail('xxxx@163.com',to,content.as_string());\n",
    "sent.close();"
   ]
  },
  {
   "cell_type": "code",
   "execution_count": null,
   "metadata": {},
   "outputs": [],
   "source": []
  }
 ],
 "metadata": {
  "kernelspec": {
   "display_name": "Python 3",
   "language": "python",
   "name": "python3"
  },
  "language_info": {
   "codemirror_mode": {
    "name": "ipython",
    "version": 3
   },
   "file_extension": ".py",
   "mimetype": "text/x-python",
   "name": "python",
   "nbconvert_exporter": "python",
   "pygments_lexer": "ipython3",
   "version": "3.6.6"
  }
 },
 "nbformat": 4,
 "nbformat_minor": 2
}
